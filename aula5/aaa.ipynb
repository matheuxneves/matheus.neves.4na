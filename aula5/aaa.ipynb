{
 "cells": [
  {
   "cell_type": "code",
   "execution_count": 1,
   "metadata": {},
   "outputs": [],
   "source": [
    "import string\n",
    "from nltk.stem import WordNetLemmatizer\n",
    "\n"
   ]
  },
  {
   "cell_type": "code",
   "execution_count": 2,
   "metadata": {},
   "outputs": [],
   "source": [
    "import string\n",
    "from nltk.stem import WordNetLemmatizer\n",
    "\n",
    "# Lista de palavras\n",
    "palavras = '''running\n",
    "better\n",
    "studies\n",
    "wolves\n",
    "mice\n",
    "children\n",
    "was\n",
    "ate\n",
    "swimming\n",
    "parties\n",
    "leaves\n",
    "knives\n",
    "happier\n",
    "studying\n",
    "played\n",
    "goes\n",
    "driving\n",
    "talked'''\n",
    "\n",
    "palavras_vetor = palavras.split()\n",
    "\n"
   ]
  },
  {
   "cell_type": "code",
   "execution_count": 3,
   "metadata": {},
   "outputs": [],
   "source": [
    "# Inicializando o lemmatizer\n",
    "lemmatizer = WordNetLemmatizer()"
   ]
  },
  {
   "cell_type": "code",
   "execution_count": 4,
   "metadata": {},
   "outputs": [
    {
     "name": "stdout",
     "output_type": "stream",
     "text": [
      "Lematização Manual: ['run', 'good', 'study', 'wolf', 'mouse', 'child', 'be', 'eat', 'swim', 'party', 'leaf', 'knife', 'happy', 'study', 'play', 'go', 'drive', 'talk']\n"
     ]
    }
   ],
   "source": [
    "# Lematização manual (pode ser feito com um dicionário também)\n",
    "manual_lemmas = {\n",
    "    'running': 'run',\n",
    "    'better': 'good',\n",
    "    'studies': 'study',\n",
    "    'wolves': 'wolf',\n",
    "    'mice': 'mouse',\n",
    "    'children': 'child',\n",
    "    'was': 'be',\n",
    "    'ate': 'eat',\n",
    "    'swimming': 'swim',\n",
    "    'parties': 'party',\n",
    "    'leaves': 'leaf',\n",
    "    'knives': 'knife',\n",
    "    'happier': 'happy',\n",
    "    'studying': 'study',\n",
    "    'played': 'play',\n",
    "    'goes': 'go',\n",
    "    'driving': 'drive',\n",
    "    'talked': 'talk'\n",
    "}\n",
    "\n",
    "manual_results = [manual_lemmas[word] for word in palavras_vetor]\n",
    "print(\"Lematização Manual:\", manual_results)"
   ]
  },
  {
   "cell_type": "code",
   "execution_count": 5,
   "metadata": {},
   "outputs": [
    {
     "name": "stdout",
     "output_type": "stream",
     "text": [
      "Lematização NLTK: ['run', 'better', 'study', 'wolves', 'mice', 'children', 'be', 'eat', 'swim', 'party', 'leave', 'knives', 'happier', 'study', 'play', 'go', 'drive', 'talk']\n"
     ]
    }
   ],
   "source": [
    "# Lematização usando NLTK (verbo como exemplo)\n",
    "lemmatized_words = [lemmatizer.lemmatize(word, pos='v') for word in palavras_vetor]\n",
    "print(\"Lematização NLTK:\", lemmatized_words)\n"
   ]
  },
  {
   "cell_type": "code",
   "execution_count": 6,
   "metadata": {},
   "outputs": [],
   "source": [
    "# Limpeza de frases\n",
    "sentences = [\n",
    "    \"The children were playing in the leaves yesterday.\",\n",
    "    \"She studies computer science and is taking three courses.\",\n",
    "    \"The wolves howled at the moon while mice scurried in the grass.\",\n",
    "    \"He was driving faster than the cars around him.\",\n",
    "    \"The chefs used sharp knives to prepare the tastiest dishes.\"\n",
    "]\n",
    "\n",
    "def basic_cleaning(sentence):\n",
    "    sentence = sentence.lower()\n",
    "    sentence = ''.join(char for char in sentence if not char.isdigit())\n",
    "    for punctuation in string.punctuation:\n",
    "        sentence = sentence.replace(punctuation, '')\n",
    "    sentence = sentence.strip()\n",
    "    return sentence\n",
    "\n",
    "cleaned = [basic_cleaning(sentence) for sentence in sentences]\n"
   ]
  },
  {
   "cell_type": "code",
   "execution_count": 8,
   "metadata": {},
   "outputs": [],
   "source": [
    "def lemmatize_sentence(sentence, lemma_dict):\n",
    "    cleaned = basic_cleaning(sentence)\n",
    "    words = cleaned.split()\n",
    "    lemmatized_words = [lemma_dict.get(word, word) for word in words]  # Se não estiver no dicionário, mantém a palavra original\n",
    "    return ' '.join(lemmatized_words)"
   ]
  },
  {
   "cell_type": "code",
   "execution_count": 9,
   "metadata": {},
   "outputs": [],
   "source": [
    "manual_lemmatized_sentences = [lemmatize_sentence(s, manual_lemmas) for s in sentences]\n"
   ]
  },
  {
   "cell_type": "code",
   "execution_count": 12,
   "metadata": {},
   "outputs": [
    {
     "name": "stdout",
     "output_type": "stream",
     "text": [
      "Original: The children were playing in the leaves yesterday.\n",
      "Lematizada: the child were playing in the leaf yesterday\n",
      "\n",
      "Original: She studies computer science and is taking three courses.\n",
      "Lematizada: she study computer science and is taking three courses\n",
      "\n",
      "Original: The wolves howled at the moon while mice scurried in the grass.\n",
      "Lematizada: the wolf howled at the moon while mouse scurried in the grass\n",
      "\n",
      "Original: He was driving faster than the cars around him.\n",
      "Lematizada: he be drive faster than the cars around him\n",
      "\n",
      "Original: The chefs used sharp knives to prepare the tastiest dishes.\n",
      "Lematizada: the chefs used sharp knife to prepare the tastiest dishes\n",
      "\n"
     ]
    }
   ],
   "source": [
    "for original, lemmatized in zip(sentences, manual_lemmatized_sentences):\n",
    "    print(f\"Original: {original}\")\n",
    "    print(f\"Lematizada: {lemmatized}\\n\")"
   ]
  }
 ],
 "metadata": {
  "kernelspec": {
   "display_name": "Python 3",
   "language": "python",
   "name": "python3"
  },
  "language_info": {
   "codemirror_mode": {
    "name": "ipython",
    "version": 3
   },
   "file_extension": ".py",
   "mimetype": "text/x-python",
   "name": "python",
   "nbconvert_exporter": "python",
   "pygments_lexer": "ipython3",
   "version": "3.12.1"
  }
 },
 "nbformat": 4,
 "nbformat_minor": 2
}
