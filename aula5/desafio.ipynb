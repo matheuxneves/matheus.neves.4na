{
 "cells": [
  {
   "cell_type": "markdown",
   "metadata": {},
   "source": [
    "## Exercício de Lematização em Processamento de Linguagem Natural"
   ]
  },
  {
   "cell_type": "code",
   "execution_count": 3,
   "metadata": {},
   "outputs": [],
   "source": [
    "import string\n",
    "from nltk.stem import WordNetLemmatizer\n"
   ]
  },
  {
   "cell_type": "code",
   "execution_count": 4,
   "metadata": {},
   "outputs": [],
   "source": [
    "lemas_manuais = {\n",
    "    'running': 'run',\n",
    "    'better': 'good',\n",
    "    'studies': 'study',\n",
    "    'wolves': 'wolf',\n",
    "    'mice': 'mouse',\n",
    "    'children': 'child',\n",
    "    'was': 'be',\n",
    "    'were': 'be',\n",
    "    'ate': 'eat',\n",
    "    'swimming': 'swim',\n",
    "    'parties': 'party',\n",
    "    'leaves': 'leaf',\n",
    "    'knives': 'knife',\n",
    "    'happier': 'happy',\n",
    "    'studying': 'study',\n",
    "    'played': 'play',\n",
    "    'goes': 'go',\n",
    "    'driving': 'drive',\n",
    "    'talked': 'talk',\n",
    "    'playing': 'play',\n",
    "    'howled': 'howl',\n",
    "    'scurried': 'scurry',\n",
    "    'used': 'use',\n",
    "    'taking': 'take',\n",
    "    'cars': 'car',\n",
    "    'chefs': 'chef',\n",
    "    'dishes': 'dish'\n",
    "}\n"
   ]
  },
  {
   "cell_type": "code",
   "execution_count": 5,
   "metadata": {},
   "outputs": [],
   "source": [
    "frases = [\n",
    "    \"The children were playing in the leaves yesterday.\",\n",
    "    \"She studies computer science and is taking three courses.\",\n",
    "    \"The wolves howled at the moon while mice scurried in the grass.\",\n",
    "    \"He was driving faster than the cars around him.\",\n",
    "    \"The chefs used sharp knives to prepare the tastiest dishes.\"\n",
    "]\n"
   ]
  },
  {
   "cell_type": "code",
   "execution_count": 6,
   "metadata": {},
   "outputs": [],
   "source": [
    "def limpar_frase(frase):\n",
    "    frase = frase.lower()  # Coloca em minúsculas\n",
    "    frase = ''.join(caractere for caractere in frase if not caractere.isdigit())  # Remove dígitos\n",
    "    for pontuacao in string.punctuation:\n",
    "        frase = frase.replace(pontuacao, '')  # Remove pontuação\n",
    "    frase = frase.strip()\n",
    "    return frase\n"
   ]
  },
  {
   "cell_type": "code",
   "execution_count": 7,
   "metadata": {},
   "outputs": [],
   "source": [
    "def lematizar_frase(frase, dicionario_lemas):\n",
    "    frase_limpa = limpar_frase(frase)\n",
    "    palavras = frase_limpa.split()\n",
    "    palavras_lematizadas = [dicionario_lemas.get(palavra, palavra) for palavra in palavras]  # Substitui se estiver no dicionário\n",
    "    return ' '.join(palavras_lematizadas)\n"
   ]
  },
  {
   "cell_type": "code",
   "execution_count": 8,
   "metadata": {},
   "outputs": [],
   "source": [
    "frases_lematizadas = [lematizar_frase(frase, lemas_manuais) for frase in frases]"
   ]
  },
  {
   "cell_type": "code",
   "execution_count": 11,
   "metadata": {},
   "outputs": [
    {
     "name": "stdout",
     "output_type": "stream",
     "text": [
      "{'the child be play in the leaf yesterday'}\n",
      "{'she study computer science and is take three courses'}\n",
      "{'the wolf howl at the moon while mouse scurry in the grass'}\n",
      "{'he be drive faster than the car around him'}\n",
      "{'the chef use sharp knife to prepare the tastiest dish'}\n"
     ]
    }
   ],
   "source": [
    "for frase_original, frase_lematizada in zip(frases, frases_lematizadas):\n",
    "    print({frase_lematizada})\n",
    "\n"
   ]
  },
  {
   "cell_type": "code",
   "execution_count": 12,
   "metadata": {},
   "outputs": [],
   "source": [
    "lemmatizador = WordNetLemmatizer()\n"
   ]
  },
  {
   "cell_type": "code",
   "execution_count": 13,
   "metadata": {},
   "outputs": [],
   "source": [
    "def lematizar_com_nltk(frase):\n",
    "    frase_limpa = limpar_frase(frase)\n",
    "    palavras = frase_limpa.split()\n",
    "    # Para simplificar, consideraremos todas como verbo (pos='v')\n",
    "    palavras_lematizadas = [lemmatizador.lemmatize(palavra, pos='v') for palavra in palavras]\n",
    "    return ' '.join(palavras_lematizadas)\n"
   ]
  },
  {
   "cell_type": "code",
   "execution_count": 19,
   "metadata": {},
   "outputs": [],
   "source": [
    "frases_lematizadas_nltk = [lematizar_com_nltk(frase) for frase in frases]\n",
    "frases_lematizadas_manual = [lematizar_frase(frase, lemas_manuais) for frase in frases]\n"
   ]
  },
  {
   "cell_type": "code",
   "execution_count": 23,
   "metadata": {},
   "outputs": [
    {
     "name": "stdout",
     "output_type": "stream",
     "text": [
      "== Comparação das frases ==\n",
      "Frase Original: The children were playing in the leaves yesterday.\n",
      "Lematização Manual: the child be play in the leaf yesterday\n",
      "Lematização NLTK: the children be play in the leave yesterday\n",
      "********************************************************************************\n",
      "Frase Original: She studies computer science and is taking three courses.\n",
      "Lematização Manual: she study computer science and is take three courses\n",
      "Lematização NLTK: she study computer science and be take three course\n",
      "********************************************************************************\n",
      "Frase Original: The wolves howled at the moon while mice scurried in the grass.\n",
      "Lematização Manual: the wolf howl at the moon while mouse scurry in the grass\n",
      "Lematização NLTK: the wolves howl at the moon while mice scurry in the grass\n",
      "********************************************************************************\n",
      "Frase Original: He was driving faster than the cars around him.\n",
      "Lematização Manual: he be drive faster than the car around him\n",
      "Lematização NLTK: he be drive faster than the cars around him\n",
      "********************************************************************************\n",
      "Frase Original: The chefs used sharp knives to prepare the tastiest dishes.\n",
      "Lematização Manual: the chef use sharp knife to prepare the tastiest dish\n",
      "Lematização NLTK: the chefs use sharp knives to prepare the tastiest dish\n",
      "********************************************************************************\n"
     ]
    }
   ],
   "source": [
    "print(\"== Comparação das frases ==\")\n",
    "\n",
    "for frase_original, frase_manual, frase_nltk in zip(frases, frases_lematizadas_manual, frases_lematizadas_nltk):\n",
    "    print(f\"Frase Original: {frase_original}\")\n",
    "    print(f\"Lematização Manual: {frase_manual}\")\n",
    "    print(f\"Lematização NLTK: {frase_nltk}\")\n",
    "    print('*' * 80)\n"
   ]
  }
 ],
 "metadata": {
  "kernelspec": {
   "display_name": "Python 3",
   "language": "python",
   "name": "python3"
  },
  "language_info": {
   "codemirror_mode": {
    "name": "ipython",
    "version": 3
   },
   "file_extension": ".py",
   "mimetype": "text/x-python",
   "name": "python",
   "nbconvert_exporter": "python",
   "pygments_lexer": "ipython3",
   "version": "3.12.1"
  }
 },
 "nbformat": 4,
 "nbformat_minor": 2
}
